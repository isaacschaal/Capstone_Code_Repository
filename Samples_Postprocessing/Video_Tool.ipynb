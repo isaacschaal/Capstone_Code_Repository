{
 "cells": [
  {
   "cell_type": "code",
   "execution_count": null,
   "metadata": {},
   "outputs": [],
   "source": [
    "# This script makes an .mp4 video out of a group of images.\n",
    "# It has the option of two codecs, which provide different levels\n",
    "# of image quality and file size.\n",
    "\n",
    "# The H264 provides a high quality image but at a lower file size. I used \n",
    "# this for the full training images, as other codecs produced incredibly large files\n",
    "\n",
    "# The XVID codec (accessible with the HD = True parameter) produces larger files\n",
    "# with hgiher quality images. I used this for the single image training videos,\n",
    "# which "
   ]
  },
  {
   "cell_type": "code",
   "execution_count": 1,
   "metadata": {},
   "outputs": [],
   "source": [
    "import os\n",
    "import cv2\n",
    "import numpy as np"
   ]
  },
  {
   "cell_type": "code",
   "execution_count": 17,
   "metadata": {},
   "outputs": [],
   "source": [
    "def make_movie(path, save_path, fps, HD = False):\n",
    "    # Get a list of all images\n",
    "    images_list = os.listdir(path)\n",
    "    images_list.sort()\n",
    "    img_array = []\n",
    "\n",
    "    # prepare the images\n",
    "    for filename in images_list:\n",
    "        full_path = path+filename\n",
    "        img = cv2.imread(full_path)\n",
    "        img_array.append(img)\n",
    "    \n",
    "    # Get the size\n",
    "    height, width, layers = img.shape\n",
    "    size = (width,height)\n",
    "\n",
    "    # Create VideoWriter\n",
    "    if HD == True:\n",
    "        out = cv2.VideoWriter(save_path,cv2.VideoWriter_fourcc(*'XVID'), fps, size)\n",
    "    else:\n",
    "        out = cv2.VideoWriter(save_path,cv2.VideoWriter_fourcc(*'H264'), fps, size)\n",
    "\n",
    "    # Write the images to the video\n",
    "    for i in range(len(img_array)):\n",
    "        out.write(img_array[i])\n",
    "    out.release()"
   ]
  },
  {
   "cell_type": "code",
   "execution_count": 22,
   "metadata": {},
   "outputs": [],
   "source": [
    "# Destination folder\n",
    "path = 'full_images_artist/'\n",
    "save_path = 'Toro-Full_Images_Training.mp4'\n",
    "fps = 10\n",
    "\n",
    "make_movie(path, save_path, fps)"
   ]
  }
 ],
 "metadata": {
  "kernelspec": {
   "display_name": "Python 3",
   "language": "python",
   "name": "python3"
  },
  "language_info": {
   "codemirror_mode": {
    "name": "ipython",
    "version": 3
   },
   "file_extension": ".py",
   "mimetype": "text/x-python",
   "name": "python",
   "nbconvert_exporter": "python",
   "pygments_lexer": "ipython3",
   "version": "3.7.7"
  }
 },
 "nbformat": 4,
 "nbformat_minor": 2
}
