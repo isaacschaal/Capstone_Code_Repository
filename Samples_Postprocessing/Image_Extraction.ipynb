{
 "cells": [
  {
   "cell_type": "code",
   "execution_count": null,
   "metadata": {},
   "outputs": [],
   "source": [
    "# Image Extraction\n",
    "# This script takes a group of StyleGAN 7x4 image full training images\n",
    "# and extracts the individual images."
   ]
  },
  {
   "cell_type": "code",
   "execution_count": 1,
   "metadata": {},
   "outputs": [],
   "source": [
    "import os\n",
    "from PIL import Image"
   ]
  },
  {
   "cell_type": "code",
   "execution_count": 9,
   "metadata": {},
   "outputs": [],
   "source": [
    "def extract_image(selection, source, destination):\n",
    "    # Define the crop coordinates\n",
    "    # Each image is 3584x2048 and we want to \n",
    "    # crop the individual 512x512 images\n",
    "    lefts = [i*512 for i in range(7)]\n",
    "    rights = [(i+1)*512 for i in range(7)]\n",
    "    tops = [i*512 for i in range(4)]\n",
    "    bottoms = [(i+1)*512 for i in range(4)]\n",
    "\n",
    "    # Organize them in a list\n",
    "    coords_list = [(lefts[i], tops[j], rights[i], bottoms[j]) for j in range(4) for i in range(7)]\n",
    "    \n",
    "    # Get a list of all images\n",
    "    full_images_list = os.listdir(source)\n",
    "    full_images_list.sort()\n",
    "\n",
    "    for img_name in full_images_list:\n",
    "\n",
    "        # Open the image\n",
    "        im = Image.open(source+img_name)\n",
    "\n",
    "        # Crop and save\n",
    "        crop = im.crop(coords_list[index-1])\n",
    "        crop.save(destination+str(index)+'-'+img_name)  "
   ]
  },
  {
   "cell_type": "code",
   "execution_count": 8,
   "metadata": {},
   "outputs": [],
   "source": [
    "# Choose images index\n",
    "selection = 8\n",
    "\n",
    "# Source Folder\n",
    "source = 'full_images_artist/'\n",
    "\n",
    "# Destination folder\n",
    "destination = 'artist_single_image/'\n",
    "\n",
    "extract_image(selection, source, destination)"
   ]
  }
 ],
 "metadata": {
  "kernelspec": {
   "display_name": "Python 3",
   "language": "python",
   "name": "python3"
  },
  "language_info": {
   "codemirror_mode": {
    "name": "ipython",
    "version": 3
   },
   "file_extension": ".py",
   "mimetype": "text/x-python",
   "name": "python",
   "nbconvert_exporter": "python",
   "pygments_lexer": "ipython3",
   "version": "3.7.7"
  }
 },
 "nbformat": 4,
 "nbformat_minor": 2
}
